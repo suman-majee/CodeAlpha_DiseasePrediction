{
  "nbformat": 4,
  "nbformat_minor": 0,
  "metadata": {
    "colab": {
      "provenance": []
    },
    "kernelspec": {
      "name": "python3",
      "display_name": "Python 3"
    },
    "language_info": {
      "name": "python"
    }
  },
  "cells": [
    {
      "cell_type": "markdown",
      "source": [
        "# **Diabetes Model**:"
      ],
      "metadata": {
        "id": "mKkc-h_L38g2"
      }
    },
    {
      "cell_type": "code",
      "source": [
        "from google.colab import drive\n",
        "drive.mount('/content/drive')"
      ],
      "metadata": {
        "id": "boMeNIGL6gdw"
      },
      "execution_count": null,
      "outputs": []
    },
    {
      "cell_type": "code",
      "source": [
        "import pandas as pd\n",
        "from sklearn.model_selection import train_test_split\n",
        "from sklearn.preprocessing import StandardScaler\n",
        "from sklearn.linear_model import LogisticRegression\n",
        "from sklearn.ensemble import RandomForestClassifier\n",
        "from sklearn.metrics import classification_report, roc_auc_score\n",
        "import joblib\n",
        "\n",
        "# Load dataset\n",
        "df = pd.read_csv(\"diabetes.csv\")\n",
        "\n",
        "# Replace 0s with median values in certain columns\n",
        "for col in ['Glucose', 'BloodPressure', 'SkinThickness', 'Insulin', 'BMI']:\n",
        "    df[col] = df[col].replace(0, df[col].median())\n",
        "\n",
        "# Split features and labels\n",
        "X = df.drop(\"Outcome\", axis=1)\n",
        "y = df[\"Outcome\"]\n",
        "\n",
        "# Train-test split\n",
        "X_train, X_test, y_train, y_test = train_test_split(X, y, test_size=0.2, random_state=42)\n",
        "\n",
        "# Scale features\n",
        "scaler = StandardScaler()\n",
        "X_train_scaled = scaler.fit_transform(X_train)\n",
        "X_test_scaled = scaler.transform(X_test)\n",
        "\n",
        "# Train models\n",
        "lr = LogisticRegression()\n",
        "lr.fit(X_train_scaled, y_train)\n",
        "\n",
        "rf = RandomForestClassifier()\n",
        "rf.fit(X_train, y_train)\n",
        "\n",
        "# Evaluate\n",
        "print(\"Logistic Regression Report:\")\n",
        "print(classification_report(y_test, lr.predict(X_test_scaled)))\n",
        "print(\"ROC-AUC:\", roc_auc_score(y_test, lr.predict_proba(X_test_scaled)[:, 1]))\n",
        "\n",
        "# Save model\n",
        "joblib.dump(lr, \"diabetes_model.pkl\")\n"
      ],
      "metadata": {
        "colab": {
          "base_uri": "https://localhost:8080/"
        },
        "id": "DD6aNy9xx_Sw",
        "outputId": "d55bc013-7642-4818-d0e0-94748ef37fad"
      },
      "execution_count": null,
      "outputs": [
        {
          "output_type": "stream",
          "name": "stdout",
          "text": [
            "Logistic Regression Report:\n",
            "              precision    recall  f1-score   support\n",
            "\n",
            "           0       0.81      0.83      0.82        99\n",
            "           1       0.68      0.65      0.67        55\n",
            "\n",
            "    accuracy                           0.77       154\n",
            "   macro avg       0.75      0.74      0.74       154\n",
            "weighted avg       0.76      0.77      0.77       154\n",
            "\n",
            "ROC-AUC: 0.8196510560146923\n"
          ]
        },
        {
          "output_type": "execute_result",
          "data": {
            "text/plain": [
              "['diabetes_model.pkl']"
            ]
          },
          "metadata": {},
          "execution_count": 2
        }
      ]
    },
    {
      "cell_type": "markdown",
      "source": [
        "# **Heart Disease**"
      ],
      "metadata": {
        "id": "3GvVPSgG4XCg"
      }
    },
    {
      "cell_type": "code",
      "source": [
        "from sklearn.preprocessing import LabelEncoder\n",
        "\n",
        "# Load dataset\n",
        "df = pd.read_csv(\"heart.csv\")\n",
        "\n",
        "# Encode categorical columns\n",
        "categorical_cols = ['Sex', 'ChestPainType', 'RestingECG', 'ExerciseAngina', 'ST_Slope']\n",
        "le = LabelEncoder()\n",
        "for col in categorical_cols:\n",
        "    df[col] = le.fit_transform(df[col])\n",
        "\n",
        "# Feature and target split\n",
        "X = df.drop(\"HeartDisease\", axis=1)\n",
        "y = df[\"HeartDisease\"]\n",
        "\n",
        "# Split data\n",
        "X_train, X_test, y_train, y_test = train_test_split(X, y, test_size=0.2, random_state=42)\n",
        "\n",
        "# Feature scaling\n",
        "scaler = StandardScaler()\n",
        "X_train_scaled = scaler.fit_transform(X_train)\n",
        "X_test_scaled = scaler.transform(X_test)\n",
        "\n",
        "# Model training\n",
        "lr = LogisticRegression()\n",
        "lr.fit(X_train_scaled, y_train)\n",
        "\n",
        "rf = RandomForestClassifier()\n",
        "rf.fit(X_train, y_train)\n",
        "\n",
        "# Evaluation\n",
        "print(\"Logistic Regression Report:\")\n",
        "print(classification_report(y_test, lr.predict(X_test_scaled)))\n",
        "print(\"ROC-AUC:\", roc_auc_score(y_test, lr.predict_proba(X_test_scaled)[:, 1]))\n",
        "\n",
        "# Save model\n",
        "joblib.dump(lr, \"heart_disease_model.pkl\")\n"
      ],
      "metadata": {
        "colab": {
          "base_uri": "https://localhost:8080/"
        },
        "id": "TUTSdZQkyHcq",
        "outputId": "548ffbd2-a81c-437c-a0cd-4d7144acc20a"
      },
      "execution_count": null,
      "outputs": [
        {
          "output_type": "stream",
          "name": "stdout",
          "text": [
            "Logistic Regression Report:\n",
            "              precision    recall  f1-score   support\n",
            "\n",
            "           0       0.78      0.88      0.83        77\n",
            "           1       0.91      0.82      0.86       107\n",
            "\n",
            "    accuracy                           0.85       184\n",
            "   macro avg       0.84      0.85      0.85       184\n",
            "weighted avg       0.85      0.85      0.85       184\n",
            "\n",
            "ROC-AUC: 0.9008374802767326\n"
          ]
        },
        {
          "output_type": "execute_result",
          "data": {
            "text/plain": [
              "['heart_disease_model.pkl']"
            ]
          },
          "metadata": {},
          "execution_count": 4
        }
      ]
    },
    {
      "cell_type": "markdown",
      "source": [
        "# **Breast Cancer**"
      ],
      "metadata": {
        "id": "KdtyWbdy4gq8"
      }
    },
    {
      "cell_type": "code",
      "source": [
        "from sklearn.linear_model import LogisticRegression\n",
        "\n",
        "# Load dataset\n",
        "df = pd.read_csv(\"breast_cancer.csv\")\n",
        "\n",
        "# Drop ID column and the unnamed column with NaN values\n",
        "df.drop([\"id\", \"Unnamed: 32\"], axis=1, inplace=True)\n",
        "\n",
        "# Encode target: M = 1, B = 0\n",
        "df[\"diagnosis\"] = df[\"diagnosis\"].map({'M': 1, 'B': 0})\n",
        "\n",
        "# Feature and target split\n",
        "X = df.drop(\"diagnosis\", axis=1)\n",
        "y = df[\"diagnosis\"]\n",
        "\n",
        "# Train-test split\n",
        "X_train, X_test, y_train, y_test = train_test_split(X, y, test_size=0.2, random_state=42)\n",
        "\n",
        "# Feature scaling\n",
        "scaler = StandardScaler()\n",
        "X_train_scaled = scaler.fit_transform(X_train)\n",
        "X_test_scaled = scaler.transform(X_test)\n",
        "\n",
        "# Train models\n",
        "lr = LogisticRegression(max_iter=10000)\n",
        "lr.fit(X_train_scaled, y_train)\n",
        "\n",
        "rf = RandomForestClassifier()\n",
        "rf.fit(X_train, y_train)\n",
        "\n",
        "# Evaluate models\n",
        "print(\"Logistic Regression Report:\")\n",
        "print(classification_report(y_test, lr.predict(X_test_scaled)))\n",
        "print(\"ROC-AUC:\", roc_auc_score(y_test, lr.predict_proba(X_test_scaled)[:, 1]))\n",
        "\n",
        "# Save the model\n",
        "joblib.dump(lr, \"breast_cancer_model.pkl\")"
      ],
      "metadata": {
        "colab": {
          "base_uri": "https://localhost:8080/"
        },
        "id": "4unk2MCW0UDl",
        "outputId": "51ddea21-bd9f-4f83-cbe5-4be459204cc7"
      },
      "execution_count": null,
      "outputs": [
        {
          "output_type": "stream",
          "name": "stdout",
          "text": [
            "Logistic Regression Report:\n",
            "              precision    recall  f1-score   support\n",
            "\n",
            "           0       0.97      0.99      0.98        71\n",
            "           1       0.98      0.95      0.96        43\n",
            "\n",
            "    accuracy                           0.97       114\n",
            "   macro avg       0.97      0.97      0.97       114\n",
            "weighted avg       0.97      0.97      0.97       114\n",
            "\n",
            "ROC-AUC: 0.99737962659679\n"
          ]
        },
        {
          "output_type": "execute_result",
          "data": {
            "text/plain": [
              "['breast_cancer_model.pkl']"
            ]
          },
          "metadata": {},
          "execution_count": 10
        }
      ]
    }
  ]
}